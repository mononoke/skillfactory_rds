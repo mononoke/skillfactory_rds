{
 "cells": [
  {
   "cell_type": "markdown",
   "metadata": {},
   "source": [
    "- [**Загрузка и знакомство с данными**](#1)\n",
    "- [**Cuisine Style**](#2)\n",
    "- [**Reviews**](#3)\n",
    "- [**Price Range**](#4)\n",
    "- [**City**](#5)\n",
    "- [**Number of Reviews**](#6)"
   ]
  },
  {
   "cell_type": "markdown",
   "metadata": {},
   "source": [
    "<a name=\"1\"></a>\n",
    "# Загрузка"
   ]
  },
  {
   "cell_type": "code",
   "execution_count": 1,
   "metadata": {},
   "outputs": [],
   "source": [
    "import pandas as pd\n",
    "from datetime import datetime\n",
    "import numpy as np\n",
    "import re"
   ]
  },
  {
   "cell_type": "code",
   "execution_count": 2,
   "metadata": {},
   "outputs": [],
   "source": [
    "df = pd.read_csv('../files/project_3/main_task_new.csv')"
   ]
  },
  {
   "cell_type": "code",
   "execution_count": 3,
   "metadata": {},
   "outputs": [],
   "source": [
    "def random_forest_regressor(df):\n",
    "    df = df.drop(['City', 'Cuisine Style', 'Price Range', 'Reviews', 'URL_TA', 'ID_TA'], axis = 1)\n",
    "    df = df.fillna(0)\n",
    "\n",
    "    # Х - данные с информацией о ресторанах, у - целевая переменная (рейтинги ресторанов)\n",
    "    X = df.drop(['Restaurant_id', 'Rating'], axis = 1)\n",
    "    y = df['Rating']\n",
    "\n",
    "    # Загружаем специальный инструмент для разбивки:\n",
    "    from sklearn.model_selection import train_test_split\n",
    "\n",
    "    # Наборы данных с меткой \"train\" будут использоваться для обучения модели, \"test\" - для тестирования.\n",
    "    # Для тестирования мы будем использовать 25% от исходного датасета.\n",
    "    X_train, X_test, y_train, y_test = train_test_split(X, y, test_size=0.25)\n",
    "\n",
    "    # Импортируем необходимые библиотеки:\n",
    "    from sklearn.ensemble import RandomForestRegressor # инструмент для создания и обучения модели\n",
    "    from sklearn import metrics # инструменты для оценки точности модели\n",
    "\n",
    "    # Создаём модель\n",
    "    regr = RandomForestRegressor(n_estimators=100)\n",
    "\n",
    "    # Обучаем модель на тестовом наборе данных\n",
    "    regr.fit(X_train, y_train)\n",
    "\n",
    "    # Используем обученную модель для предсказания рейтинга ресторанов в тестовой выборке.\n",
    "    # Предсказанные значения записываем в переменную y_pred\n",
    "    y_pred = regr.predict(X_test)\n",
    "\n",
    "    # Сравниваем предсказанные значения (y_pred) с реальными (y_test), и смотрим насколько они в среднем отличаются\n",
    "    # Метрика называется Mean Absolute Error (MAE) и показывает среднее отклонение предсказанных значений от фактических.\n",
    "    print('MAE:', metrics.mean_absolute_error(y_test, y_pred))"
   ]
  },
  {
   "cell_type": "code",
   "execution_count": 4,
   "metadata": {},
   "outputs": [
    {
     "data": {
      "text/html": [
       "<div>\n",
       "<style scoped>\n",
       "    .dataframe tbody tr th:only-of-type {\n",
       "        vertical-align: middle;\n",
       "    }\n",
       "\n",
       "    .dataframe tbody tr th {\n",
       "        vertical-align: top;\n",
       "    }\n",
       "\n",
       "    .dataframe thead th {\n",
       "        text-align: right;\n",
       "    }\n",
       "</style>\n",
       "<table border=\"1\" class=\"dataframe\">\n",
       "  <thead>\n",
       "    <tr style=\"text-align: right;\">\n",
       "      <th></th>\n",
       "      <th>Restaurant_id</th>\n",
       "      <th>City</th>\n",
       "      <th>Cuisine Style</th>\n",
       "      <th>Ranking</th>\n",
       "      <th>Rating</th>\n",
       "      <th>Price Range</th>\n",
       "      <th>Number of Reviews</th>\n",
       "      <th>Reviews</th>\n",
       "      <th>URL_TA</th>\n",
       "      <th>ID_TA</th>\n",
       "    </tr>\n",
       "  </thead>\n",
       "  <tbody>\n",
       "    <tr>\n",
       "      <th>0</th>\n",
       "      <td>id_5569</td>\n",
       "      <td>Paris</td>\n",
       "      <td>['European', 'French', 'International']</td>\n",
       "      <td>5570.0</td>\n",
       "      <td>3.5</td>\n",
       "      <td>$$ - $$$</td>\n",
       "      <td>194.0</td>\n",
       "      <td>[['Good food at your doorstep', 'A good hotel ...</td>\n",
       "      <td>/Restaurant_Review-g187147-d1912643-Reviews-R_...</td>\n",
       "      <td>d1912643</td>\n",
       "    </tr>\n",
       "    <tr>\n",
       "      <th>1</th>\n",
       "      <td>id_1535</td>\n",
       "      <td>Stockholm</td>\n",
       "      <td>NaN</td>\n",
       "      <td>1537.0</td>\n",
       "      <td>4.0</td>\n",
       "      <td>NaN</td>\n",
       "      <td>10.0</td>\n",
       "      <td>[['Unique cuisine', 'Delicious Nepalese food']...</td>\n",
       "      <td>/Restaurant_Review-g189852-d7992032-Reviews-Bu...</td>\n",
       "      <td>d7992032</td>\n",
       "    </tr>\n",
       "    <tr>\n",
       "      <th>2</th>\n",
       "      <td>id_352</td>\n",
       "      <td>London</td>\n",
       "      <td>['Japanese', 'Sushi', 'Asian', 'Grill', 'Veget...</td>\n",
       "      <td>353.0</td>\n",
       "      <td>4.5</td>\n",
       "      <td>$$$$</td>\n",
       "      <td>688.0</td>\n",
       "      <td>[['Catch up with friends', 'Not exceptional'],...</td>\n",
       "      <td>/Restaurant_Review-g186338-d8632781-Reviews-RO...</td>\n",
       "      <td>d8632781</td>\n",
       "    </tr>\n",
       "    <tr>\n",
       "      <th>3</th>\n",
       "      <td>id_3456</td>\n",
       "      <td>Berlin</td>\n",
       "      <td>NaN</td>\n",
       "      <td>3458.0</td>\n",
       "      <td>5.0</td>\n",
       "      <td>NaN</td>\n",
       "      <td>3.0</td>\n",
       "      <td>[[], []]</td>\n",
       "      <td>/Restaurant_Review-g187323-d1358776-Reviews-Es...</td>\n",
       "      <td>d1358776</td>\n",
       "    </tr>\n",
       "    <tr>\n",
       "      <th>4</th>\n",
       "      <td>id_615</td>\n",
       "      <td>Munich</td>\n",
       "      <td>['German', 'Central European', 'Vegetarian Fri...</td>\n",
       "      <td>621.0</td>\n",
       "      <td>4.0</td>\n",
       "      <td>$$ - $$$</td>\n",
       "      <td>84.0</td>\n",
       "      <td>[['Best place to try a Bavarian food', 'Nice b...</td>\n",
       "      <td>/Restaurant_Review-g187309-d6864963-Reviews-Au...</td>\n",
       "      <td>d6864963</td>\n",
       "    </tr>\n",
       "  </tbody>\n",
       "</table>\n",
       "</div>"
      ],
      "text/plain": [
       "  Restaurant_id       City                                      Cuisine Style  \\\n",
       "0       id_5569      Paris            ['European', 'French', 'International']   \n",
       "1       id_1535  Stockholm                                                NaN   \n",
       "2        id_352     London  ['Japanese', 'Sushi', 'Asian', 'Grill', 'Veget...   \n",
       "3       id_3456     Berlin                                                NaN   \n",
       "4        id_615     Munich  ['German', 'Central European', 'Vegetarian Fri...   \n",
       "\n",
       "   Ranking  Rating Price Range  Number of Reviews  \\\n",
       "0   5570.0     3.5    $$ - $$$              194.0   \n",
       "1   1537.0     4.0         NaN               10.0   \n",
       "2    353.0     4.5        $$$$              688.0   \n",
       "3   3458.0     5.0         NaN                3.0   \n",
       "4    621.0     4.0    $$ - $$$               84.0   \n",
       "\n",
       "                                             Reviews  \\\n",
       "0  [['Good food at your doorstep', 'A good hotel ...   \n",
       "1  [['Unique cuisine', 'Delicious Nepalese food']...   \n",
       "2  [['Catch up with friends', 'Not exceptional'],...   \n",
       "3                                           [[], []]   \n",
       "4  [['Best place to try a Bavarian food', 'Nice b...   \n",
       "\n",
       "                                              URL_TA     ID_TA  \n",
       "0  /Restaurant_Review-g187147-d1912643-Reviews-R_...  d1912643  \n",
       "1  /Restaurant_Review-g189852-d7992032-Reviews-Bu...  d7992032  \n",
       "2  /Restaurant_Review-g186338-d8632781-Reviews-RO...  d8632781  \n",
       "3  /Restaurant_Review-g187323-d1358776-Reviews-Es...  d1358776  \n",
       "4  /Restaurant_Review-g187309-d6864963-Reviews-Au...  d6864963  "
      ]
     },
     "execution_count": 4,
     "metadata": {},
     "output_type": "execute_result"
    }
   ],
   "source": [
    "df.head()"
   ]
  },
  {
   "cell_type": "code",
   "execution_count": 5,
   "metadata": {},
   "outputs": [
    {
     "name": "stdout",
     "output_type": "stream",
     "text": [
      "<class 'pandas.core.frame.DataFrame'>\n",
      "RangeIndex: 40000 entries, 0 to 39999\n",
      "Data columns (total 10 columns):\n",
      " #   Column             Non-Null Count  Dtype  \n",
      "---  ------             --------------  -----  \n",
      " 0   Restaurant_id      40000 non-null  object \n",
      " 1   City               40000 non-null  object \n",
      " 2   Cuisine Style      30717 non-null  object \n",
      " 3   Ranking            40000 non-null  float64\n",
      " 4   Rating             40000 non-null  float64\n",
      " 5   Price Range        26114 non-null  object \n",
      " 6   Number of Reviews  37457 non-null  float64\n",
      " 7   Reviews            40000 non-null  object \n",
      " 8   URL_TA             40000 non-null  object \n",
      " 9   ID_TA              40000 non-null  object \n",
      "dtypes: float64(3), object(7)\n",
      "memory usage: 3.1+ MB\n"
     ]
    }
   ],
   "source": [
    "df.info()"
   ]
  },
  {
   "cell_type": "code",
   "execution_count": 6,
   "metadata": {},
   "outputs": [],
   "source": [
    "## Создадим функцию для получения выбросов\n",
    "def outliers_iqr(df, column):\n",
    "    q_1 = df[column].quantile(0.25)\n",
    "    q_3 = df[column].quantile(0.75)\n",
    "\n",
    "    iqr = q_3 - q_1\n",
    "\n",
    "    upper_bound = q_3 + (iqr * 1.5)\n",
    "    lower_bound = q_1 - (iqr * 1.5)\n",
    "\n",
    "    return {\n",
    "        'lower': df[df[column] < lower_bound],\n",
    "        'upper': df[df[column] > upper_bound]\n",
    "    }"
   ]
  },
  {
   "cell_type": "code",
   "execution_count": 7,
   "metadata": {},
   "outputs": [],
   "source": [
    "## random_forest_regressor(df) == MAE: 0.42"
   ]
  },
  {
   "cell_type": "markdown",
   "metadata": {},
   "source": [
    "<a name=\"1.1\"></a>\n",
    "## Rating"
   ]
  },
  {
   "cell_type": "code",
   "execution_count": 8,
   "metadata": {},
   "outputs": [
    {
     "data": {
      "text/plain": [
       "3.9930375"
      ]
     },
     "execution_count": 8,
     "metadata": {},
     "output_type": "execute_result"
    }
   ],
   "source": [
    "## средний рейтинг\n",
    "df.Rating.mean()"
   ]
  },
  {
   "cell_type": "code",
   "execution_count": 9,
   "metadata": {},
   "outputs": [
    {
     "data": {
      "text/plain": [
       "<AxesSubplot:>"
      ]
     },
     "execution_count": 9,
     "metadata": {},
     "output_type": "execute_result"
    },
    {
     "data": {
      "image/png": "[encoded data removed]",
      "text/plain": [
       "<Figure size 432x288 with 1 Axes>"
      ]
     },
     "metadata": {
      "needs_background": "light"
     },
     "output_type": "display_data"
    }
   ],
   "source": [
    "## Ниже 2-х баллов - выбросы\n",
    "df.Rating.plot(kind='box')"
   ]
  },
  {
   "cell_type": "code",
   "execution_count": 10,
   "metadata": {},
   "outputs": [
    {
     "data": {
      "text/plain": [
       "<AxesSubplot:ylabel='Frequency'>"
      ]
     },
     "execution_count": 10,
     "metadata": {},
     "output_type": "execute_result"
    },
    {
     "data": {
      "image/png": "[encoded data removed]",
      "text/plain": [
       "<Figure size 432x288 with 1 Axes>"
      ]
     },
     "metadata": {
      "needs_background": "light"
     },
     "output_type": "display_data"
    }
   ],
   "source": [
    "## Всего 340 ресторанов обладает рейтингом ниже 2 баллов\n",
    "df[df.Rating < 2]['Rating'].plot(kind='hist')"
   ]
  },
  {
   "cell_type": "markdown",
   "metadata": {},
   "source": [
    "<a name=\"2\"></a>\n",
    "## Cuisine Style\n",
    "\n",
    "1. Соберем слайс уникальных кухонь - cuisines"
   ]
  },
  {
   "cell_type": "code",
   "execution_count": 11,
   "metadata": {},
   "outputs": [],
   "source": [
    "def cuisines_to_list(x):\n",
    "    return [y for y in x[1:-1].split(\"'\") if (y != '') & (y != ', ')]\n",
    "\n",
    "df['cuisine_style_updated'] = df['Cuisine Style'].fillna('').apply(cuisines_to_list)"
   ]
  },
  {
   "cell_type": "code",
   "execution_count": 12,
   "metadata": {},
   "outputs": [
    {
     "name": "stdout",
     "output_type": "stream",
     "text": [
      "Cuisine-len:: 125 \n",
      "Cuisine:: {'Spanish', 'Scottish', 'Moroccan', 'Bar', 'International', 'Czech', 'Persian', 'Romanian', 'European', 'Indonesian', 'Singaporean', 'Dutch', 'Turkish', 'Norwegian', 'Vegetarian Friendly', 'Israeli', 'Korean', 'Hungarian', 'Argentinean', 'Malaysian', 'French', 'Xinjiang', 'Caucasian', 'Delicatessen', 'Taiwanese', 'Salvadoran', 'Peruvian', 'Croatian', 'Thai', 'Sri Lankan', 'Fusion', 'Afghani', 'Jamaican', 'Danish', 'Steakhouse', 'Latvian', 'Indian', 'Sushi', 'Gluten Free Options', 'Austrian', 'Portuguese', 'Italian', 'Tunisian', 'Minority Chinese', 'Welsh', 'Yunnan', 'Venezuelan', 'Central American', 'Polish', 'British', 'Polynesian', 'South American', 'Greek', 'Australian', 'Diner', 'Pub', 'Mongolian', 'Street Food', 'Cuban', 'Filipino', 'Chilean', 'Ecuadorean', 'New Zealand', 'Arabic', 'Swiss', 'Healthy', 'Armenian', 'Mediterranean', 'Lebanese', 'Chinese', 'Gastropub', 'Albanian', 'Hawaiian', 'Pakistani', 'Soups', 'Native American', 'Latin', 'Japanese', 'Fujian', 'Cafe', 'Pizza', 'Irish', 'Russian', 'Fast Food', 'Tibetan', 'African', 'Swedish', 'Eastern European', 'Balti', 'Middle Eastern', 'Colombian', 'Halal', 'Ukrainian', 'Cajun & Creole', 'Canadian', 'Vietnamese', 'Contemporary', 'Bangladeshi', 'Ethiopian', 'Southwestern', 'Caribbean', 'Georgian', 'German', 'Scandinavian', 'Brew Pub', 'Central Asian', 'Vegan Options', 'Burmese', 'Slovenian', 'Azerbaijani', 'Kosher', 'Uzbek', 'Brazilian', 'Asian', 'Cambodian', 'Central European', 'Grill', 'Nepali', 'Barbecue', 'Wine Bar', 'Seafood', 'Belgian', 'American', 'Mexican', 'Egyptian'}\n"
     ]
    }
   ],
   "source": [
    "cuisines = set()  # создаём пустое множество для хранения уникальных значений кухонь\n",
    "def put_cuisine(cell):\n",
    "    for item in cell:\n",
    "        cuisines.add(item)\n",
    "    return cell\n",
    "\n",
    "df['cuisine_style_updated'].apply(put_cuisine)\n",
    "print(\"Cuisine-len::\", len(cuisines), \"\\nCuisine::\", cuisines)"
   ]
  },
  {
   "cell_type": "markdown",
   "metadata": {},
   "source": [
    "2. Для каждой кухни в датафрейме создадим свой столбец. Заполним его 0 - если данная кухня не представлена в ресторане и 1 - если представлена"
   ]
  },
  {
   "cell_type": "code",
   "execution_count": 13,
   "metadata": {},
   "outputs": [],
   "source": [
    "def find_item(cell):\n",
    "    if item in cell:\n",
    "        return 1\n",
    "    return 0\n",
    "\n",
    "for item in cuisines:\n",
    "    df[item] = df['cuisine_style_updated'].apply(find_item)"
   ]
  },
  {
   "cell_type": "markdown",
   "metadata": {},
   "source": [
    "3. В колонку с 'cuisine_style_updated' положим количество кухонь, представленное в данной строке датафрейма. Если в данных отсутствует информация о типах кухонь, то считаем, что в этом ресторане предлагается только один тип кухни"
   ]
  },
  {
   "cell_type": "code",
   "execution_count": 14,
   "metadata": {},
   "outputs": [],
   "source": [
    "def get_cuisines_len(x):\n",
    "    if len(x) > 0:\n",
    "        return len(x)\n",
    "    return 1\n",
    "\n",
    "df['cuisine_style_updated'] = df['cuisine_style_updated'].apply(get_cuisines_len)"
   ]
  },
  {
   "cell_type": "code",
   "execution_count": 15,
   "metadata": {},
   "outputs": [
    {
     "name": "stdout",
     "output_type": "stream",
     "text": [
      "                                 cuisine  cuisine_count\n",
      "Vegetarian Friendly  Vegetarian Friendly          11189\n",
      "European                        European          10060\n",
      "Mediterranean              Mediterranean           6277\n",
      "Italian                          Italian           5964\n",
      "Vegan Options              Vegan Options           4486\n",
      "...                                  ...            ...\n",
      "Yunnan                            Yunnan              1\n",
      "Burmese                          Burmese              1\n",
      "Latvian                          Latvian              1\n",
      "Salvadoran                    Salvadoran              1\n",
      "Xinjiang                        Xinjiang              1\n",
      "\n",
      "[125 rows x 2 columns]\n",
      "В среднем каждая кухня упоминается:: 764.904\n",
      "1 quant:: 21.0\n"
     ]
    }
   ],
   "source": [
    "## выберем только столбцы с кухнями\n",
    "df_cuisines = df.drop([x for x in df.columns if not(x in cuisines)], axis=1)\n",
    "\n",
    "\n",
    "## создадим новый датафрейм (кухня, сколько раз упоминается)\n",
    "df_cuisines_count = pd.DataFrame({\n",
    "    \"cuisine\": df_cuisines.columns,\n",
    "    \"cuisine_count\": df_cuisines.apply(sum)\n",
    "})\n",
    "print(df_cuisines_count.sort_values(by=\"cuisine_count\", ascending=False))\n",
    "print(\"В среднем каждая кухня упоминается::\", df_cuisines_count['cuisine_count'].mean())\n",
    "print(\"1 quant::\", df_cuisines_count['cuisine_count'].quantile(0.25))"
   ]
  },
  {
   "cell_type": "code",
   "execution_count": 16,
   "metadata": {},
   "outputs": [
    {
     "data": {
      "text/plain": [
       "cuisine          31\n",
       "cuisine_count    31\n",
       "dtype: int64"
      ]
     },
     "execution_count": 16,
     "metadata": {},
     "output_type": "execute_result"
    },
    {
     "data": {
      "image/png": "[encoded data removed]",
      "text/plain": [
       "<Figure size 432x288 with 1 Axes>"
      ]
     },
     "metadata": {
      "needs_background": "light"
     },
     "output_type": "display_data"
    }
   ],
   "source": [
    "## Посмотрим, какое количество кухонь упоминается реже 21 раза\n",
    "rare_cuisine = df_cuisines_count[df_cuisines_count['cuisine_count'] < 21]\n",
    "df_cuisines_count[df_cuisines_count['cuisine_count'] < 21].plot(kind=\"hist\")\n",
    "df_cuisines_count[df_cuisines_count.cuisine_count < 21].count()"
   ]
  },
  {
   "cell_type": "code",
   "execution_count": 17,
   "metadata": {},
   "outputs": [],
   "source": [
    "## Введем новый признак в датафрейм - наличие редкой кухни\n",
    "def set_rare_cuisine(row):\n",
    "    items = rare_cuisine.index\n",
    "    for item in items:\n",
    "        if row[item] > 0:\n",
    "            return 1\n",
    "            break\n",
    "    return 0\n",
    "\n",
    "\n",
    "df['rare_cuisine'] = df.apply(lambda row: set_rare_cuisine(row), axis=1)"
   ]
  },
  {
   "cell_type": "code",
   "execution_count": 18,
   "metadata": {},
   "outputs": [],
   "source": [
    "## И удалим столбцы с редко упоминающимися видами кухонь\n",
    "df = df.drop(rare_cuisine.index, axis = 1)"
   ]
  },
  {
   "cell_type": "code",
   "execution_count": 19,
   "metadata": {},
   "outputs": [],
   "source": [
    "## random_forest_regressor(df) == MAE: 0.37"
   ]
  },
  {
   "cell_type": "markdown",
   "metadata": {},
   "source": [
    "<a name=\"3\"></a>\n",
    "## Reviews\n",
    "\n",
    "1. Создадим колонку Reviews_datetime:\n",
    "    - оставим только массив datetime\n",
    "    - если в этом массиве количество элементов != 2 -> вернем None"
   ]
  },
  {
   "cell_type": "code",
   "execution_count": 20,
   "metadata": {},
   "outputs": [],
   "source": [
    "def get_time_list(cell):\n",
    "    pattern = re.compile('\\d+[/]\\d+[/]\\d+')\n",
    "    match = re.findall(pattern, cell)\n",
    "    ## Если количество отзывов не равно 2 - заменим на NaN\n",
    "    if len(match) != 2:\n",
    "        return None\n",
    "\n",
    "    return [pd.to_datetime(y) for y in match]\n",
    "\n",
    "df['Reviews_datetime'] = df.Reviews.apply(get_time_list)"
   ]
  },
  {
   "cell_type": "markdown",
   "metadata": {},
   "source": [
    "2. Создадим колонку \"last_review_ts\" - возраст самого свежего отзыва в timestamp"
   ]
  },
  {
   "cell_type": "code",
   "execution_count": 21,
   "metadata": {},
   "outputs": [],
   "source": [
    "def get_max_fresh_review(cell):\n",
    "    if cell == None:\n",
    "        return None\n",
    "    max_fresh_review = cell[0]\n",
    "    if cell[1] > max_fresh_review:\n",
    "        max_fresh_review = cell[1]\n",
    "\n",
    "    return max_fresh_review.timestamp()\n",
    "\n",
    "df['last_review_ts'] = df.Reviews_datetime.apply(get_max_fresh_review)\n",
    "df['last_review_ts'] = df['last_review_ts'].fillna(df['last_review_ts'].mean())"
   ]
  },
  {
   "cell_type": "markdown",
   "metadata": {},
   "source": [
    "3. Создадим колонку с разницей между отзывами -  \"diff_reviews_ts\" - unix"
   ]
  },
  {
   "cell_type": "code",
   "execution_count": 22,
   "metadata": {},
   "outputs": [],
   "source": [
    "def get_diff_reviews_time(cell):\n",
    "    if cell == None:\n",
    "        return None\n",
    "\n",
    "    diff = cell[1].timestamp() - cell[0].timestamp()\n",
    "    if diff < 0:\n",
    "        diff = -diff\n",
    "    return int(diff)\n",
    "\n",
    "df['diff_reviews_ts'] = pd.to_numeric(df.Reviews_datetime.apply(get_diff_reviews_time))\n",
    "df['diff_reviews_ts'] = df['diff_reviews_ts'].fillna(df['diff_reviews_ts'].mean())"
   ]
  },
  {
   "cell_type": "code",
   "execution_count": 23,
   "metadata": {},
   "outputs": [
    {
     "data": {
      "text/plain": [
       "3207.0"
      ]
     },
     "execution_count": 23,
     "metadata": {},
     "output_type": "execute_result"
    }
   ],
   "source": [
    "## Какое максимальное количество дней отделяет даты публикации отзывов,\n",
    "## размещённых на сайте ресторана? Введите количество дней в виде целого числа\n",
    "df['diff_reviews_ts'].max() / 60 / 60 / 24"
   ]
  },
  {
   "cell_type": "code",
   "execution_count": 24,
   "metadata": {},
   "outputs": [],
   "source": [
    "df = df.drop('Reviews_datetime', axis=1)"
   ]
  },
  {
   "cell_type": "code",
   "execution_count": 25,
   "metadata": {},
   "outputs": [],
   "source": [
    "## random_forest_regressor(df) == MAE: 0.35"
   ]
  },
  {
   "cell_type": "markdown",
   "metadata": {},
   "source": [
    "Посмотрим, какие слова встречаются чаще всего в отзывах (Код для вывода закоментирован)."
   ]
  },
  {
   "cell_type": "code",
   "execution_count": 26,
   "metadata": {},
   "outputs": [],
   "source": [
    "word_frequency = {}\n",
    "\n",
    "\n",
    "## возвращаем массив слов из строки\n",
    "def get_alpha(string):\n",
    "    s = string.split(' ')\n",
    "    new_string = list()\n",
    "    for word in s:\n",
    "        substitutions = ['[', '.', ',', ']', \"'\", '!']\n",
    "        t = word.lower()\n",
    "        for search in substitutions:\n",
    "            t = t.replace(search, '')\n",
    "        if t.isalpha() == False:\n",
    "                continue\n",
    "        elif len(t) < 4:\n",
    "                continue\n",
    "        new_string.append(t)\n",
    "    return new_string\n",
    "\n",
    "\n",
    "def set_word_frequency(df):\n",
    "    for row in df:\n",
    "        for i in get_alpha(row):\n",
    "            if i not in word_frequency:\n",
    "                word_frequency[i] = 1\n",
    "            else:\n",
    "                word_frequency[i] += 1\n",
    "\n",
    "\n",
    "## set_word_frequency(df[df.Rating == 5]['Reviews'])\n",
    "## set_word_frequency(df[df.Rating == 4]['Reviews'])\n",
    "## set_word_frequency(df[df.Rating == 3]['Reviews'])\n",
    "## set_word_frequency(df[df.Rating == 2]['Reviews'])\n",
    "## set_word_frequency(df[df.Rating <= 3]['Reviews'])\n",
    "\n",
    "\n",
    "word_frequency_sorted = dict(sorted(word_frequency.items(), key=lambda item: item[1], reverse=True))\n",
    "## for key, value in word_frequency_sorted.items():\n",
    "##    print(key, value)"
   ]
  },
  {
   "cell_type": "markdown",
   "metadata": {},
   "source": [
    "\n",
    "После просмотра для разных рейтингов, выясняется, что чаще:\n",
    "- для низкого рейтинга: `['terrible', 'horrible', 'worst', 'poor', 'slow', 'rude', 'awful']`\n",
    "- для высокого: `[\n",
    "    'delicious', 'authentic', 'wonderful', 'favourite',\n",
    "    'favorite', 'interesting', 'traditional', 'perfect',\n",
    "    'amazing', 'good', 'nice', 'great', 'friendly', 'best',\n",
    "    'excellent', 'atmosphere', 'tasty', 'unique', 'serviceamazing',\n",
    "    'awesome', 'relaxing']`\n",
    "\n",
    "4. Создадим колонки 'reviews_good_count' && 'reviews_bad_count' - сколько раз в отзывах встречаются плохие или хорошие слова"
   ]
  },
  {
   "cell_type": "code",
   "execution_count": 27,
   "metadata": {},
   "outputs": [],
   "source": [
    "bad_words = ['terrible', 'horrible', 'worst', 'poor', 'slow', 'rude', 'awful']\n",
    "\n",
    "def set_bad_words_count(cell):\n",
    "    count = 0\n",
    "    for word in get_alpha(cell):\n",
    "        if word in bad_words:\n",
    "            count += 1\n",
    "    return count\n",
    "\n",
    "\n",
    "df['bad_words_count'] = df.Reviews.apply(set_bad_words_count)"
   ]
  },
  {
   "cell_type": "code",
   "execution_count": 28,
   "metadata": {},
   "outputs": [],
   "source": [
    "good_words = [\n",
    "    'delicious', 'authentic', 'wonderful', 'favourite',\n",
    "    'favorite', 'interesting', 'traditional', 'perfect',\n",
    "    'amazing', 'good', 'nice', 'great', 'friendly', 'best',\n",
    "    'excellent', 'atmosphere', 'tasty', 'unique', 'serviceamazing',\n",
    "    'awesome', 'relaxing']\n",
    "\n",
    "def set_good_words_count(cell):\n",
    "    count = 0\n",
    "    for word in get_alpha(cell):\n",
    "        if word in good_words:\n",
    "            count += 1\n",
    "    return count\n",
    "\n",
    "\n",
    "df['good_words_count'] = df.Reviews.apply(set_good_words_count)"
   ]
  },
  {
   "cell_type": "markdown",
   "metadata": {},
   "source": [
    "<a name=\"4\"></a>\n",
    "## Price Range"
   ]
  },
  {
   "cell_type": "markdown",
   "metadata": {},
   "source": [
    "Посмотрим количество уникальных значений и распределение признака:"
   ]
  },
  {
   "cell_type": "code",
   "execution_count": 29,
   "metadata": {},
   "outputs": [
    {
     "name": "stdout",
     "output_type": "stream",
     "text": [
      "Уникальные значения:: ['$$ - $$$' nan '$$$$' '$']\n",
      "Распределение::\n",
      " $$ - $$$    18412\n",
      "$            6279\n",
      "$$$$         1423\n",
      "Name: Price Range, dtype: int64\n",
      "Количество пустых значений:: 13886\n"
     ]
    }
   ],
   "source": [
    "price_range = df['Price Range']\n",
    "print(\"Уникальные значения::\", price_range.unique())\n",
    "print(\"Распределение::\\n\", price_range.value_counts())\n",
    "print(\"Количество пустых значений::\", len(df[price_range.isna()]))"
   ]
  },
  {
   "cell_type": "markdown",
   "metadata": {},
   "source": [
    "Превратим этот признак в числовой:\n",
    "- 0 - самый низкий уровень цен == `$`\n",
    "- 1 - средний уровень цен == `$$-$$$`\n",
    "- 2 - самый высокий уровень цен == `$$$$`\n",
    "- пустые значения превратим в 1 - как самый встречающийся признак"
   ]
  },
  {
   "cell_type": "code",
   "execution_count": 30,
   "metadata": {},
   "outputs": [],
   "source": [
    "import math\n",
    "price_range_dist = {\n",
    "    '$': 0,\n",
    "    '$$ - $$$': 1,\n",
    "    '$$$$': 2\n",
    "}\n",
    "\n",
    "df['price_range_updated'] = df['Price Range'].apply(lambda x: 1 if pd.isnull(x) else price_range_dist[x])"
   ]
  },
  {
   "cell_type": "code",
   "execution_count": 31,
   "metadata": {},
   "outputs": [],
   "source": [
    "## random_forest_regressor(df) == MAE: 0.34"
   ]
  },
  {
   "cell_type": "markdown",
   "metadata": {},
   "source": [
    "<a name=\"5\"></a>\n",
    "## City"
   ]
  },
  {
   "cell_type": "code",
   "execution_count": 32,
   "metadata": {},
   "outputs": [
    {
     "data": {
      "text/plain": [
       "31"
      ]
     },
     "execution_count": 32,
     "metadata": {},
     "output_type": "execute_result"
    }
   ],
   "source": [
    "## количество уникальных значений\n",
    "len(df.City.unique())"
   ]
  },
  {
   "cell_type": "code",
   "execution_count": 33,
   "metadata": {},
   "outputs": [
    {
     "data": {
      "text/plain": [
       "London       5757\n",
       "Paris        4897\n",
       "Madrid       3108\n",
       "Barcelona    2734\n",
       "Berlin       2155\n",
       "Milan        2133\n",
       "Rome         2078\n",
       "Prague       1443\n",
       "Lisbon       1300\n",
       "Vienna       1166\n",
       "Name: City, dtype: int64"
      ]
     },
     "execution_count": 33,
     "metadata": {},
     "output_type": "execute_result"
    }
   ],
   "source": [
    "df.City.value_counts()[:10]"
   ]
  },
  {
   "cell_type": "markdown",
   "metadata": {},
   "source": [
    "Добавим новый признак - наличие местной кухни в ресторане.\n",
    "\n",
    "Создадим словарь:\n",
    "`city - название национальной кухни.`"
   ]
  },
  {
   "cell_type": "code",
   "execution_count": 34,
   "metadata": {},
   "outputs": [],
   "source": [
    "countries_dist = {\n",
    "    'London': 'British',\n",
    "    'Paris': 'French',\n",
    "    'Madrid': 'Spanish',\n",
    "    'Barcelona': 'Spanish',\n",
    "    'Berlin': 'German',\n",
    "    'Milan': 'Italian',\n",
    "    'Rome': 'Italian',\n",
    "    'Prague': 'Czech',\n",
    "    'Lisbon': 'Portuguese',\n",
    "    'Vienna': 'Austrian',\n",
    "    'Amsterdam': 'Dutch',\n",
    "    'Brussels': 'Belgian',\n",
    "    'Hamburg': 'German',\n",
    "    'Munich': 'German',\n",
    "    'Lyon': 'French',\n",
    "    'Stockholm': 'Swedish',\n",
    "    'Budapest': 'Hungarian',\n",
    "    'Warsaw': 'Polish',\n",
    "    'Dublin': 'Irish',\n",
    "    'Copenhagen': 'Danish',\n",
    "    'Athens': 'Greek',\n",
    "    'Edinburgh': 'Scottish',\n",
    "    'Zurich': 'Swiss',\n",
    "    'Oporto': 'Portuguese',\n",
    "    'Geneva': 'Swiss',\n",
    "    'Krakow': 'Polish',\n",
    "    'Oslo': 'Norwegian',\n",
    "    'Helsinki': 'European',\n",
    "    'Bratislava': 'Slovenian',\n",
    "    'Luxembourg': 'European',\n",
    "    'Ljubljana': 'Slovenian'\n",
    "}\n",
    "\n",
    "\n",
    "def set_local_kitchen(row):\n",
    "    return row[countries_dist[row.City]]\n",
    "\n",
    "df['local_kitchen'] = df.apply(lambda row: set_local_kitchen(row), axis=1)"
   ]
  },
  {
   "cell_type": "code",
   "execution_count": 35,
   "metadata": {},
   "outputs": [],
   "source": [
    "# Добавляем категорийный признак для городов ресторанов\n",
    "\n",
    "df['city'] = df['City']\n",
    "df = pd.get_dummies(df, columns=['City'], dummy_na=True)\n",
    "df = df.rename(columns = {'city': 'City'})"
   ]
  },
  {
   "cell_type": "markdown",
   "metadata": {},
   "source": [
    "<a name=\"6\"></a>\n",
    "## Number of Reviews"
   ]
  },
  {
   "cell_type": "code",
   "execution_count": 36,
   "metadata": {},
   "outputs": [],
   "source": [
    "df['Number of Reviews'] = df['Number of Reviews'].fillna(0)"
   ]
  },
  {
   "cell_type": "code",
   "execution_count": 38,
   "metadata": {},
   "outputs": [
    {
     "name": "stdout",
     "output_type": "stream",
     "text": [
      "MAE: 0.208644\n"
     ]
    }
   ],
   "source": [
    "random_forest_regressor(df)"
   ]
  },
  {
   "cell_type": "code",
   "execution_count": null,
   "metadata": {},
   "outputs": [],
   "source": []
  }
 ],
 "metadata": {
  "kernelspec": {
   "display_name": "Python 3",
   "language": "python",
   "name": "python3"
  },
  "language_info": {
   "codemirror_mode": {
    "name": "ipython",
    "version": 3
   },
   "file_extension": ".py",
   "mimetype": "text/x-python",
   "name": "python",
   "nbconvert_exporter": "python",
   "pygments_lexer": "ipython3",
   "version": "3.8.5"
  }
 },
 "nbformat": 4,
 "nbformat_minor": 4
}